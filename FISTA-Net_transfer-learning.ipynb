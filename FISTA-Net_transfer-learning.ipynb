{
 "cells": [
  {
   "cell_type": "code",
   "execution_count": null,
   "id": "3bf09561-9681-4c47-be34-f440d74e6b50",
   "metadata": {},
   "outputs": [],
   "source": [
    "import os\n",
    "import sys\n",
    "import mlflow\n",
    "import torch\n",
    "import random\n",
    "import numpy as np\n",
    "\n",
    "PROJECT_PATH = os.getcwd()\n",
    "sys.path.append(PROJECT_PATH)\n",
    "\n",
    "from src.FISTANet.trainer import FISTANetTrainer\n",
    "from src.FISTANet.loader import DataSplit\n",
    "from src.FISTANet.model import FISTANet"
   ]
  },
  {
   "cell_type": "code",
   "execution_count": null,
   "id": "4064e8d1-7523-4e00-8f6f-9d32cf5435a5",
   "metadata": {},
   "outputs": [],
   "source": [
    "# data paths and configuration\n",
    "DATA_DIR = os.path.join(PROJECT_PATH, 'data')\n",
    "DATA_FILE_GEN = 'dataset_master_10000.pkl'\n",
    "DATA_FILE_SIGS = 'ECG-QDB_cat-1.npy'\n",
    "DATA_FILE_NOISE = 'MIT-BIH/bw'\n",
    "DATA_FILE_DICT = 'dictionary_BW_real_data.npy'\n",
    "DATA_SIZE = 10000\n",
    "TVT_SPLIT = {\n",
    "    'train': 80,\n",
    "    'valid': 10,\n",
    "    'test': 10\n",
    "}\n",
    "\n",
    "# FISTA-Net model configuration\n",
    "FNET_LAYER_NO = 4\n",
    "FNET_FEATURE_NO = 16\n",
    "\n",
    "# training parameters\n",
    "LAMBDA_LSPA = 1\n",
    "LAMBDA_LFSYM = 1e-3\n",
    "LAMBDA_LFSPA = 1e-2\n",
    "BATCH_SIZE = 1000\n",
    "LEARNING_RATE = 1e-3\n",
    "\n",
    "# seed for random generators\n",
    "RANDOM_SEED = 42"
   ]
  },
  {
   "cell_type": "code",
   "execution_count": null,
   "id": "c1c06d9f-849f-4233-bd04-696884604bc8",
   "metadata": {},
   "outputs": [],
   "source": [
    "# mlflow tracking server and experiment\n",
    "mlflow.set_tracking_uri('http://localhost:8080')\n",
    "experiment = mlflow.set_experiment('ECGDenFISTA-Net')"
   ]
  },
  {
   "cell_type": "code",
   "execution_count": null,
   "id": "3e9220dc-b977-444b-8e6b-c3c1e9d2509c",
   "metadata": {},
   "outputs": [],
   "source": [
    "# get info of the pretrained model\n",
    "LOAD_MODEL_RUN = mlflow.search_runs(experiment_ids=[experiment.experiment_id],\n",
    "                                    order_by=['start_time desc']).iloc[0]['run_id']\n",
    "LOAD_MODEL_EPOCH = 3000"
   ]
  },
  {
   "cell_type": "code",
   "execution_count": null,
   "id": "cc0bd817-998e-4e3c-a094-1754679a184c",
   "metadata": {},
   "outputs": [],
   "source": [
    "with mlflow.start_run(log_system_metrics=True) as run:\n",
    "    # seed random generators to ensure deterministic experiments\n",
    "    random.seed(RANDOM_SEED)\n",
    "    np.random.seed(RANDOM_SEED)\n",
    "    torch.manual_seed(RANDOM_SEED)\n",
    "    torch.cuda.manual_seed(RANDOM_SEED)\n",
    "    torch.cuda.manual_seed_all(RANDOM_SEED)\n",
    "    torch.backends.cudnn.deterministic = True\n",
    "    torch.backends.cudnn.benchmark = False\n",
    "    generator = torch.Generator()\n",
    "    generator.manual_seed(RANDOM_SEED) \n",
    "    \n",
    "    # define PyTorch device\n",
    "    device = torch.device('cuda' if torch.cuda.is_available() else 'cpu')\n",
    "    \n",
    "    # read and log train, validation and test datasets, and dictionary\n",
    "    trn_ldr, val_ldr, tst_ldr = DataSplit(DATA_DIR, DATA_FILE_GEN, DATA_FILE_SIGS, DATA_FILE_NOISE,\n",
    "                                          TVT_SPLIT, BATCH_SIZE, generator=generator)\n",
    "    Psi = np.load(os.path.join(DATA_DIR, DATA_FILE_DICT))\n",
    "\n",
    "    # load model\n",
    "    model = FISTANet(FNET_LAYER_NO, FNET_FEATURE_NO)\n",
    "    \n",
    "    # specify and log training parameters\n",
    "    params = {\n",
    "        'device': device,\n",
    "        'fnet_layer_no': FNET_LAYER_NO,\n",
    "        'fnet_feature_no': FNET_FEATURE_NO,\n",
    "        'lambda_Lspa': LAMBDA_LSPA,\n",
    "        'lambda_LFsym': LAMBDA_LFSYM,\n",
    "        'lambda_LFspa': LAMBDA_LFSPA,\n",
    "        'load_model_run': LOAD_MODEL_RUN,\n",
    "        'load_model_epoch': LOAD_MODEL_EPOCH,\n",
    "        'batch_size': BATCH_SIZE,\n",
    "        'lr': LEARNING_RATE\n",
    "    }   \n",
    "    mlflow.log_params(params)\n",
    "\n",
    "    # train and evaluate model\n",
    "    trainer = FISTANetTrainer(model, Psi, params)\n",
    "    trainer.train(trn_ldr, val_ldr, 17000, start_epoch=LOAD_MODEL_EPOCH,\n",
    "                  log_model_every=100, log_comp_fig_every=100, comp_fig_samples=[0, 500, 950])\n",
    "    trainer.evaluate(tst_ldr)"
   ]
  }
 ],
 "metadata": {
  "kernelspec": {
   "display_name": "Python 3 (ipykernel)",
   "language": "python",
   "name": "python3"
  },
  "language_info": {
   "codemirror_mode": {
    "name": "ipython",
    "version": 3
   },
   "file_extension": ".py",
   "mimetype": "text/x-python",
   "name": "python",
   "nbconvert_exporter": "python",
   "pygments_lexer": "ipython3",
   "version": "3.9.1"
  }
 },
 "nbformat": 4,
 "nbformat_minor": 5
}
