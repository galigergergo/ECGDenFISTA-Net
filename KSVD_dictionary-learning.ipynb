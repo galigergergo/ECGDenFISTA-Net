{
 "cells": [
  {
   "cell_type": "code",
   "execution_count": null,
   "id": "412515d0-cee9-438d-981c-024150ec1f29",
   "metadata": {},
   "outputs": [],
   "source": [
    "import os\n",
    "import sys\n",
    "import numpy as np\n",
    "\n",
    "PROJECT_PATH = os.getcwd()\n",
    "sys.path.append(PROJECT_PATH)\n",
    "\n",
    "from src.KSVD.ksvd import KSVD"
   ]
  },
  {
   "cell_type": "code",
   "execution_count": null,
   "id": "acd24540-facb-4c5d-a7df-c7737a77b4e1",
   "metadata": {},
   "outputs": [],
   "source": [
    "DATA_DIR = os.path.join(PROJECT_PATH, 'data')\n",
    "DATA_FILE_SIGS = 'ECG-QDB_cat-1.npy'\n",
    "\n",
    "SIG_LEN = 10          # length of training signals in seconds\n",
    "SIG_SAMP_RATE = 250   # sampling rate of training signals, i.e. N = second*sampling_Rate\n",
    "SIG_NO = 500          # number of test signals (>> atom number)\n",
    "ATOM_NO = 100         # number of dictionary atoms"
   ]
  },
  {
   "cell_type": "code",
   "execution_count": null,
   "id": "6293c959-62dc-46bd-b349-1f29e534706a",
   "metadata": {},
   "outputs": [],
   "source": [
    "N = SIG_LEN * SIG_SAMP_RATE    # dimension, i.e. atom_number needs to be bigger\n",
    "x = np.linspace(0, SIG_LEN, N)\n",
    "half_sig_no = int(SIG_NO//2)\n",
    "\n",
    "random_shift = np.random.random(half_sig_no) * 2 * SIG_LEN - SIG_LEN\n",
    "x_shift = x[:, np.newaxis] + random_shift\n",
    "\n",
    "freqs = np.random.random(half_sig_no) * 0.8   # random frequencies between 0-0.8Hz\n",
    "\n",
    "train_sigs_sin = np.sin(x_shift * freqs)\n",
    "train_sigs_ecgqdb = np.load(os.path.join(DATA_DIR, DATA_FILE_SIGS))\n",
    "train_sigs = np.concatenate((train_sigs_sin, train_sigs_ecgqdb[:N, :half_sig_no]), axis=1)\n",
    "\n",
    "Psi = np.ones((N, ATOM_NO))\n",
    "Psi /= np.linalg.norm(Psi, axis=0)\n",
    "\n",
    "Psi, X = KSVD(Psi, train_sigs, method='omp_par', thresh=1e-8, T_0=3, maxIter=100, output=False)\n",
    "\n",
    "np.save(os.path.join(DATA_DIR, 'dictionary_BW_new.npy'), Psi)"
   ]
  }
 ],
 "metadata": {
  "kernelspec": {
   "display_name": "Python 3 (ipykernel)",
   "language": "python",
   "name": "python3"
  },
  "language_info": {
   "codemirror_mode": {
    "name": "ipython",
    "version": 3
   },
   "file_extension": ".py",
   "mimetype": "text/x-python",
   "name": "python",
   "nbconvert_exporter": "python",
   "pygments_lexer": "ipython3",
   "version": "3.9.1"
  }
 },
 "nbformat": 4,
 "nbformat_minor": 5
}
